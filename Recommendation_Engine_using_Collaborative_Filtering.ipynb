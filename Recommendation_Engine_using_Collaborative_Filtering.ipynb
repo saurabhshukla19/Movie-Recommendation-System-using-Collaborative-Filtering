{
 "cells": [
  {
   "cell_type": "markdown",
   "metadata": {},
   "source": [
    "# Task 1: Introduction\n",
    "\n",
    "![Movies Collage](https://i.imgur.com/T7V0VZ6.png)\n",
    "\n",
    "For this project creating a recommendation engine for movies for users based on there past behaviour is the goal.\n",
    "\n",
    "---\n",
    "Focus is on **collaborative filtering** approach, that is: \n",
    "\n",
    "The user is recommended items that people with similar tastes and preferences liked in the past. In another word, this method predicts unknown ratings by using the similarities between users.\n"
   ]
  },
  {
   "cell_type": "markdown",
   "metadata": {
    "colab_type": "text",
    "id": "76DA01vHbp5J"
   },
   "source": [
    "#### 1.1: Importing/Installing Libraries"
   ]
  },
  {
   "cell_type": "code",
   "execution_count": 2,
   "metadata": {
    "colab": {
     "base_uri": "https://localhost:8080/",
     "height": 410
    },
    "colab_type": "code",
    "id": "0oLknnNMIC2S",
    "outputId": "f422ec75-baa3-4df7-8950-6cd81f7b3d19"
   },
   "outputs": [
    {
     "name": "stdout",
     "output_type": "stream",
     "text": [
      "Requirement already satisfied: pandas in /usr/local/lib/python3.6/dist-packages (1.0.5)\n",
      "Requirement already satisfied: matplotlib in /usr/local/lib/python3.6/dist-packages (3.2.2)\n",
      "Requirement already satisfied: numpy in /usr/local/lib/python3.6/dist-packages (1.18.5)\n",
      "Collecting scikit-surprise\n",
      "\u001b[?25l  Downloading https://files.pythonhosted.org/packages/97/37/5d334adaf5ddd65da99fc65f6507e0e4599d092ba048f4302fe8775619e8/scikit-surprise-1.1.1.tar.gz (11.8MB)\n",
      "\u001b[K     |████████████████████████████████| 11.8MB 3.8MB/s \n",
      "\u001b[?25hRequirement already satisfied: python-dateutil>=2.6.1 in /usr/local/lib/python3.6/dist-packages (from pandas) (2.8.1)\n",
      "Requirement already satisfied: pytz>=2017.2 in /usr/local/lib/python3.6/dist-packages (from pandas) (2018.9)\n",
      "Requirement already satisfied: kiwisolver>=1.0.1 in /usr/local/lib/python3.6/dist-packages (from matplotlib) (1.2.0)\n",
      "Requirement already satisfied: pyparsing!=2.0.4,!=2.1.2,!=2.1.6,>=2.0.1 in /usr/local/lib/python3.6/dist-packages (from matplotlib) (2.4.7)\n",
      "Requirement already satisfied: cycler>=0.10 in /usr/local/lib/python3.6/dist-packages (from matplotlib) (0.10.0)\n",
      "Requirement already satisfied: joblib>=0.11 in /usr/local/lib/python3.6/dist-packages (from scikit-surprise) (0.16.0)\n",
      "Requirement already satisfied: scipy>=1.0.0 in /usr/local/lib/python3.6/dist-packages (from scikit-surprise) (1.4.1)\n",
      "Requirement already satisfied: six>=1.10.0 in /usr/local/lib/python3.6/dist-packages (from scikit-surprise) (1.15.0)\n",
      "Building wheels for collected packages: scikit-surprise\n",
      "  Building wheel for scikit-surprise (setup.py) ... \u001b[?25l\u001b[?25hdone\n",
      "  Created wheel for scikit-surprise: filename=scikit_surprise-1.1.1-cp36-cp36m-linux_x86_64.whl size=1670910 sha256=28cf7f8ceb534b5e7c7aee7c251adb7aa0e6ca0eec5db60de89411480e624032\n",
      "  Stored in directory: /root/.cache/pip/wheels/78/9c/3d/41b419c9d2aff5b6e2b4c0fc8d25c538202834058f9ed110d0\n",
      "Successfully built scikit-surprise\n",
      "Installing collected packages: scikit-surprise\n",
      "Successfully installed scikit-surprise-1.1.1\n"
     ]
    }
   ],
   "source": [
    "!pip3 install pandas matplotlib numpy scikit-surprise"
   ]
  },
  {
   "cell_type": "code",
   "execution_count": 3,
   "metadata": {
    "colab": {
     "base_uri": "https://localhost:8080/",
     "height": 52
    },
    "colab_type": "code",
    "id": "tn2GzR9SH4wG",
    "outputId": "34f1eb2b-b349-49a5-bce6-b24c036dd50c"
   },
   "outputs": [
    {
     "name": "stdout",
     "output_type": "stream",
     "text": [
      ">> Importing Libraries\n",
      ">> Libraries imported.\n"
     ]
    }
   ],
   "source": [
    "print('>> Importing Libraries')\n",
    "\n",
    "import pandas as pd\n",
    "\n",
    "from surprise import Reader, Dataset, SVD\n",
    "\n",
    "from surprise.accuracy import rmse, mae\n",
    "from surprise.model_selection import cross_validate\n",
    "\n",
    "print('>> Libraries imported.')"
   ]
  },
  {
   "cell_type": "markdown",
   "metadata": {
    "colab_type": "text",
    "id": "SfA0D9oJbw1z"
   },
   "source": [
    "### Task 2: Importing Data\n",
    "#### 2.1: Importing the Data"
   ]
  },
  {
   "cell_type": "code",
   "execution_count": 6,
   "metadata": {
    "colab": {
     "base_uri": "https://localhost:8080/",
     "height": 197
    },
    "colab_type": "code",
    "id": "qyYYIVZLIQN2",
    "outputId": "c69f7890-e427-4bee-9654-d15d0f72d854"
   },
   "outputs": [
    {
     "data": {
      "text/html": [
       "<div>\n",
       "<style scoped>\n",
       "    .dataframe tbody tr th:only-of-type {\n",
       "        vertical-align: middle;\n",
       "    }\n",
       "\n",
       "    .dataframe tbody tr th {\n",
       "        vertical-align: top;\n",
       "    }\n",
       "\n",
       "    .dataframe thead th {\n",
       "        text-align: right;\n",
       "    }\n",
       "</style>\n",
       "<table border=\"1\" class=\"dataframe\">\n",
       "  <thead>\n",
       "    <tr style=\"text-align: right;\">\n",
       "      <th></th>\n",
       "      <th>userId</th>\n",
       "      <th>movieId</th>\n",
       "      <th>rating</th>\n",
       "      <th>timestamp</th>\n",
       "    </tr>\n",
       "  </thead>\n",
       "  <tbody>\n",
       "    <tr>\n",
       "      <th>0</th>\n",
       "      <td>1</td>\n",
       "      <td>1</td>\n",
       "      <td>4.0</td>\n",
       "      <td>964982703</td>\n",
       "    </tr>\n",
       "    <tr>\n",
       "      <th>1</th>\n",
       "      <td>1</td>\n",
       "      <td>3</td>\n",
       "      <td>4.0</td>\n",
       "      <td>964981247</td>\n",
       "    </tr>\n",
       "    <tr>\n",
       "      <th>2</th>\n",
       "      <td>1</td>\n",
       "      <td>6</td>\n",
       "      <td>4.0</td>\n",
       "      <td>964982224</td>\n",
       "    </tr>\n",
       "    <tr>\n",
       "      <th>3</th>\n",
       "      <td>1</td>\n",
       "      <td>47</td>\n",
       "      <td>5.0</td>\n",
       "      <td>964983815</td>\n",
       "    </tr>\n",
       "    <tr>\n",
       "      <th>4</th>\n",
       "      <td>1</td>\n",
       "      <td>50</td>\n",
       "      <td>5.0</td>\n",
       "      <td>964982931</td>\n",
       "    </tr>\n",
       "  </tbody>\n",
       "</table>\n",
       "</div>"
      ],
      "text/plain": [
       "   userId  movieId  rating  timestamp\n",
       "0       1        1     4.0  964982703\n",
       "1       1        3     4.0  964981247\n",
       "2       1        6     4.0  964982224\n",
       "3       1       47     5.0  964983815\n",
       "4       1       50     5.0  964982931"
      ]
     },
     "execution_count": 6,
     "metadata": {
      "tags": []
     },
     "output_type": "execute_result"
    }
   ],
   "source": [
    "df = pd.read_csv('ratings (1).csv')\n",
    "df.head()"
   ]
  },
  {
   "cell_type": "markdown",
   "metadata": {
    "colab_type": "text",
    "id": "zBglnu7VcIcE"
   },
   "source": [
    "\n",
    "\n",
    "#### 2.2 Dropping extra columns."
   ]
  },
  {
   "cell_type": "code",
   "execution_count": 7,
   "metadata": {
    "colab": {
     "base_uri": "https://localhost:8080/",
     "height": 197
    },
    "colab_type": "code",
    "id": "JOwRnKzIIt1V",
    "outputId": "6f6a455a-a45c-4c0f-e6ea-9b66f65e894b"
   },
   "outputs": [
    {
     "data": {
      "text/html": [
       "<div>\n",
       "<style scoped>\n",
       "    .dataframe tbody tr th:only-of-type {\n",
       "        vertical-align: middle;\n",
       "    }\n",
       "\n",
       "    .dataframe tbody tr th {\n",
       "        vertical-align: top;\n",
       "    }\n",
       "\n",
       "    .dataframe thead th {\n",
       "        text-align: right;\n",
       "    }\n",
       "</style>\n",
       "<table border=\"1\" class=\"dataframe\">\n",
       "  <thead>\n",
       "    <tr style=\"text-align: right;\">\n",
       "      <th></th>\n",
       "      <th>userId</th>\n",
       "      <th>movieId</th>\n",
       "      <th>rating</th>\n",
       "    </tr>\n",
       "  </thead>\n",
       "  <tbody>\n",
       "    <tr>\n",
       "      <th>0</th>\n",
       "      <td>1</td>\n",
       "      <td>1</td>\n",
       "      <td>4.0</td>\n",
       "    </tr>\n",
       "    <tr>\n",
       "      <th>1</th>\n",
       "      <td>1</td>\n",
       "      <td>3</td>\n",
       "      <td>4.0</td>\n",
       "    </tr>\n",
       "    <tr>\n",
       "      <th>2</th>\n",
       "      <td>1</td>\n",
       "      <td>6</td>\n",
       "      <td>4.0</td>\n",
       "    </tr>\n",
       "    <tr>\n",
       "      <th>3</th>\n",
       "      <td>1</td>\n",
       "      <td>47</td>\n",
       "      <td>5.0</td>\n",
       "    </tr>\n",
       "    <tr>\n",
       "      <th>4</th>\n",
       "      <td>1</td>\n",
       "      <td>50</td>\n",
       "      <td>5.0</td>\n",
       "    </tr>\n",
       "  </tbody>\n",
       "</table>\n",
       "</div>"
      ],
      "text/plain": [
       "   userId  movieId  rating\n",
       "0       1        1     4.0\n",
       "1       1        3     4.0\n",
       "2       1        6     4.0\n",
       "3       1       47     5.0\n",
       "4       1       50     5.0"
      ]
     },
     "execution_count": 7,
     "metadata": {
      "tags": []
     },
     "output_type": "execute_result"
    }
   ],
   "source": [
    "df.drop('timestamp', axis = 1, inplace = True)\n",
    "df.head()"
   ]
  },
  {
   "cell_type": "markdown",
   "metadata": {
    "colab_type": "text",
    "id": "sDAjovAycOcN"
   },
   "source": [
    "\n",
    "\n",
    "#### 2.3 Checking for Missing Data"
   ]
  },
  {
   "cell_type": "code",
   "execution_count": 8,
   "metadata": {
    "colab": {
     "base_uri": "https://localhost:8080/",
     "height": 87
    },
    "colab_type": "code",
    "id": "-ygL7sGnJl8v",
    "outputId": "9984617e-685d-4982-f8da-8eb27ceb9bfb"
   },
   "outputs": [
    {
     "data": {
      "text/plain": [
       "userId     0\n",
       "movieId    0\n",
       "rating     0\n",
       "dtype: int64"
      ]
     },
     "execution_count": 8,
     "metadata": {
      "tags": []
     },
     "output_type": "execute_result"
    }
   ],
   "source": [
    "df.isnull().sum()"
   ]
  },
  {
   "cell_type": "markdown",
   "metadata": {
    "colab_type": "text",
    "id": "5CvI7hS3cUht"
   },
   "source": [
    "### Task 3: EDA (Exploratory data analysis)\n",
    "#### 3.1 Number of movies/users"
   ]
  },
  {
   "cell_type": "code",
   "execution_count": 9,
   "metadata": {
    "colab": {},
    "colab_type": "code",
    "id": "90OHhSMOJplp"
   },
   "outputs": [],
   "source": [
    "n_movies = df['movieId'].nunique()\n",
    "n_users = df['userId'].nunique()"
   ]
  },
  {
   "cell_type": "code",
   "execution_count": 10,
   "metadata": {
    "colab": {
     "base_uri": "https://localhost:8080/",
     "height": 34
    },
    "colab_type": "code",
    "id": "e5FAtxLVKGSb",
    "outputId": "80928d6f-e2f3-4226-83ef-1c1e14cff367"
   },
   "outputs": [
    {
     "name": "stdout",
     "output_type": "stream",
     "text": [
      "Number of Unique Movies are: 9724\n"
     ]
    }
   ],
   "source": [
    "print('Number of Unique Movies are:', n_movies)"
   ]
  },
  {
   "cell_type": "code",
   "execution_count": 11,
   "metadata": {
    "colab": {
     "base_uri": "https://localhost:8080/",
     "height": 34
    },
    "colab_type": "code",
    "id": "M5iWQNljKHxv",
    "outputId": "1c9cb84c-d825-4be0-8f2c-991dee4155d1"
   },
   "outputs": [
    {
     "name": "stdout",
     "output_type": "stream",
     "text": [
      "Number of Unique Users are: 610\n"
     ]
    }
   ],
   "source": [
    "print('Number of Unique Users are:', n_users)"
   ]
  },
  {
   "cell_type": "markdown",
   "metadata": {
    "colab_type": "text",
    "id": "RNY1UUZzceJP"
   },
   "source": [
    "\n",
    "\n",
    "#### 3.2 Sparsity of our data"
   ]
  },
  {
   "cell_type": "code",
   "execution_count": 12,
   "metadata": {
    "colab": {
     "base_uri": "https://localhost:8080/",
     "height": 34
    },
    "colab_type": "code",
    "id": "9VRq_1p5KI4L",
    "outputId": "4018d010-1fb4-43b8-84e6-1c0e319fb1d5"
   },
   "outputs": [
    {
     "data": {
      "text/plain": [
       "5830804"
      ]
     },
     "execution_count": 12,
     "metadata": {
      "tags": []
     },
     "output_type": "execute_result"
    }
   ],
   "source": [
    "available_ratings = df['rating'].count()\n",
    "total_ratings = n_movies*n_users\n",
    "missing_ratings = total_ratings - available_ratings\n",
    "missing_ratings"
   ]
  },
  {
   "cell_type": "code",
   "execution_count": 13,
   "metadata": {
    "colab": {
     "base_uri": "https://localhost:8080/",
     "height": 34
    },
    "colab_type": "code",
    "id": "W2dVFAbnLHTM",
    "outputId": "f525b8c1-6f44-4e9c-f2d1-b1055090fe17"
   },
   "outputs": [
    {
     "data": {
      "text/plain": [
       "98.3"
      ]
     },
     "execution_count": 13,
     "metadata": {
      "tags": []
     },
     "output_type": "execute_result"
    }
   ],
   "source": [
    "sparsity_ratings = round((missing_ratings/total_ratings)*100,3)\n",
    "sparsity_ratings"
   ]
  },
  {
   "cell_type": "markdown",
   "metadata": {
    "colab_type": "text",
    "id": "lA5AiHVZcnw5"
   },
   "source": [
    "#### 3.3 Rating Distribution"
   ]
  },
  {
   "cell_type": "code",
   "execution_count": 14,
   "metadata": {
    "colab": {
     "base_uri": "https://localhost:8080/",
     "height": 288
    },
    "colab_type": "code",
    "id": "gCBgLXayLVTm",
    "outputId": "d0fb7614-a8d8-40f1-e643-b30ea35afdc7"
   },
   "outputs": [
    {
     "data": {
      "text/plain": [
       "<matplotlib.axes._subplots.AxesSubplot at 0x7f836e21ff60>"
      ]
     },
     "execution_count": 14,
     "metadata": {
      "tags": []
     },
     "output_type": "execute_result"
    },
    {
     "data": {
      "image/png": "[encoded data removed]",
      "text/plain": [
       "<Figure size 432x288 with 1 Axes>"
      ]
     },
     "metadata": {
      "needs_background": "light",
      "tags": []
     },
     "output_type": "display_data"
    }
   ],
   "source": [
    "df['rating'].value_counts().plot(kind = 'bar')"
   ]
  },
  {
   "cell_type": "code",
   "execution_count": 15,
   "metadata": {
    "colab": {
     "base_uri": "https://localhost:8080/",
     "height": 197
    },
    "colab_type": "code",
    "id": "IjneZHdENZFJ",
    "outputId": "8ccd1c37-e47f-43c2-f8c3-41777ed82a39"
   },
   "outputs": [
    {
     "data": {
      "text/html": [
       "<div>\n",
       "<style scoped>\n",
       "    .dataframe tbody tr th:only-of-type {\n",
       "        vertical-align: middle;\n",
       "    }\n",
       "\n",
       "    .dataframe tbody tr th {\n",
       "        vertical-align: top;\n",
       "    }\n",
       "\n",
       "    .dataframe thead th {\n",
       "        text-align: right;\n",
       "    }\n",
       "</style>\n",
       "<table border=\"1\" class=\"dataframe\">\n",
       "  <thead>\n",
       "    <tr style=\"text-align: right;\">\n",
       "      <th></th>\n",
       "      <th>userId</th>\n",
       "      <th>movieId</th>\n",
       "      <th>rating</th>\n",
       "    </tr>\n",
       "  </thead>\n",
       "  <tbody>\n",
       "    <tr>\n",
       "      <th>0</th>\n",
       "      <td>1</td>\n",
       "      <td>1</td>\n",
       "      <td>4.0</td>\n",
       "    </tr>\n",
       "    <tr>\n",
       "      <th>1</th>\n",
       "      <td>1</td>\n",
       "      <td>3</td>\n",
       "      <td>4.0</td>\n",
       "    </tr>\n",
       "    <tr>\n",
       "      <th>2</th>\n",
       "      <td>1</td>\n",
       "      <td>6</td>\n",
       "      <td>4.0</td>\n",
       "    </tr>\n",
       "    <tr>\n",
       "      <th>3</th>\n",
       "      <td>1</td>\n",
       "      <td>47</td>\n",
       "      <td>5.0</td>\n",
       "    </tr>\n",
       "    <tr>\n",
       "      <th>4</th>\n",
       "      <td>1</td>\n",
       "      <td>50</td>\n",
       "      <td>5.0</td>\n",
       "    </tr>\n",
       "  </tbody>\n",
       "</table>\n",
       "</div>"
      ],
      "text/plain": [
       "   userId  movieId  rating\n",
       "0       1        1     4.0\n",
       "1       1        3     4.0\n",
       "2       1        6     4.0\n",
       "3       1       47     5.0\n",
       "4       1       50     5.0"
      ]
     },
     "execution_count": 15,
     "metadata": {
      "tags": []
     },
     "output_type": "execute_result"
    }
   ],
   "source": [
    "df.head()"
   ]
  },
  {
   "cell_type": "markdown",
   "metadata": {
    "colab_type": "text",
    "id": "e0-cEv2ecxts"
   },
   "source": [
    "### Task 4: Dimensionality Reduction\n",
    "#### 4.1 Filter movies with less than 3 ratings"
   ]
  },
  {
   "cell_type": "code",
   "execution_count": 16,
   "metadata": {
    "colab": {},
    "colab_type": "code",
    "id": "alhZtywuNxmp"
   },
   "outputs": [],
   "source": [
    "filter_movies = df['movieId'].value_counts() > 3\n",
    "filter_movies = filter_movies[filter_movies].index.tolist()\n",
    "#filter_movies"
   ]
  },
  {
   "cell_type": "markdown",
   "metadata": {
    "colab_type": "text",
    "id": "KSNcmXfCc8Jh"
   },
   "source": [
    "\n",
    "\n",
    "#### 4.2 Filter users with less than 3 movies rated"
   ]
  },
  {
   "cell_type": "code",
   "execution_count": 17,
   "metadata": {
    "colab": {},
    "colab_type": "code",
    "id": "I9ZQRTzzN9Js"
   },
   "outputs": [],
   "source": [
    "filter_users = df['userId'].value_counts() > 3\n",
    "filter_users = filter_users[filter_users].index.tolist()"
   ]
  },
  {
   "cell_type": "markdown",
   "metadata": {
    "colab_type": "text",
    "id": "JNKt-KDSdAFp"
   },
   "source": [
    "\n",
    "\n",
    "#### 4.3 Remove rarely rated movies and rarely rating users\n"
   ]
  },
  {
   "cell_type": "code",
   "execution_count": 18,
   "metadata": {
    "colab": {
     "base_uri": "https://localhost:8080/",
     "height": 52
    },
    "colab_type": "code",
    "id": "tBJuR8CUPLAq",
    "outputId": "1a3a9886-e348-4e6b-ede1-f26b34a3a076"
   },
   "outputs": [
    {
     "name": "stdout",
     "output_type": "stream",
     "text": [
      "Before removing rarely rated data: (100836, 3)\n",
      "After removing rarely rated data: (92394, 3)\n"
     ]
    }
   ],
   "source": [
    "print('Before removing rarely rated data:' ,df.shape)\n",
    "df = df[(df['movieId'].isin(filter_movies)) & (df['userId'].isin(filter_users))]\n",
    "print('After removing rarely rated data:' ,df.shape)"
   ]
  },
  {
   "cell_type": "markdown",
   "metadata": {
    "colab_type": "text",
    "id": "1M9BKfm4dIzA"
   },
   "source": [
    "\n",
    "### Task 5: Create Training and Test Sets\n",
    "#### 5.1 Selecting columns used for training"
   ]
  },
  {
   "cell_type": "code",
   "execution_count": 19,
   "metadata": {
    "colab": {
     "base_uri": "https://localhost:8080/",
     "height": 34
    },
    "colab_type": "code",
    "id": "Emoqn7CpP3BQ",
    "outputId": "23fd4d62-86bc-45ca-a03f-417d660a698a"
   },
   "outputs": [
    {
     "data": {
      "text/plain": [
       "['userId', 'movieId', 'rating']"
      ]
     },
     "execution_count": 19,
     "metadata": {
      "tags": []
     },
     "output_type": "execute_result"
    }
   ],
   "source": [
    "cols = ['userId', 'movieId', 'rating']\n",
    "cols"
   ]
  },
  {
   "cell_type": "markdown",
   "metadata": {
    "colab_type": "text",
    "id": "QWUP0_3sdSIx"
   },
   "source": [
    "\n",
    "\n",
    "#### 5.2 Create surprise dataset"
   ]
  },
  {
   "cell_type": "code",
   "execution_count": 20,
   "metadata": {
    "colab": {},
    "colab_type": "code",
    "id": "ZK-nW1sJQvgy"
   },
   "outputs": [],
   "source": [
    "reader = Reader(rating_scale = (0.5,5))\n",
    "data = Dataset.load_from_df(df[cols],reader)"
   ]
  },
  {
   "cell_type": "markdown",
   "metadata": {
    "colab_type": "text",
    "id": "1FAEaJNLdXE1"
   },
   "source": [
    "#### 5.3 Create Train-set and Prediction-set\n"
   ]
  },
  {
   "cell_type": "code",
   "execution_count": 23,
   "metadata": {
    "colab": {},
    "colab_type": "code",
    "id": "gjjmq8boLQm2"
   },
   "outputs": [],
   "source": [
    "train = data.build_full_trainset()\n",
    "antiset = train.build_anti_testset()\n"
   ]
  },
  {
   "cell_type": "markdown",
   "metadata": {
    "colab_type": "text",
    "id": "W_3f0Kdkdex0"
   },
   "source": [
    "\n",
    "### Task 6: Creating/training the model\n",
    "#### 6.1 Creating the model"
   ]
  },
  {
   "cell_type": "markdown",
   "metadata": {
    "colab_type": "text",
    "id": "HkRfEvOJeC4B"
   },
   "source": [
    "**SVD (Singular Value Decomposition)**\n",
    "\n",
    "Interaction Matrix = A X B X C"
   ]
  },
  {
   "cell_type": "code",
   "execution_count": 24,
   "metadata": {
    "colab": {},
    "colab_type": "code",
    "id": "D5JosH2xL2Eb"
   },
   "outputs": [],
   "source": [
    "svd = SVD(n_epochs= 25, verbose= True)"
   ]
  },
  {
   "cell_type": "markdown",
   "metadata": {
    "colab_type": "text",
    "id": "vj8ve0C0d1nt"
   },
   "source": [
    "\n",
    "#### 6.2 Training the model\n",
    "\n",
    "**Mean Absolute Error (MAE)**: MAE measures the average magnitude of the errors in a set of predictions, without considering their direction. \n",
    "\n",
    "**Root mean squared error (RMSE)**:  RMSE is the square root of the average of squared differences between prediction and actual observation."
   ]
  },
  {
   "cell_type": "code",
   "execution_count": 25,
   "metadata": {
    "colab": {
     "base_uri": "https://localhost:8080/",
     "height": 1000
    },
    "colab_type": "code",
    "id": "XSA62sTdMy3q",
    "outputId": "b66b9c9a-2db7-4135-a23f-04dfb92a3516"
   },
   "outputs": [
    {
     "name": "stdout",
     "output_type": "stream",
     "text": [
      "Processing epoch 0\n",
      "Processing epoch 1\n",
      "Processing epoch 2\n",
      "Processing epoch 3\n",
      "Processing epoch 4\n",
      "Processing epoch 5\n",
      "Processing epoch 6\n",
      "Processing epoch 7\n",
      "Processing epoch 8\n",
      "Processing epoch 9\n",
      "Processing epoch 10\n",
      "Processing epoch 11\n",
      "Processing epoch 12\n",
      "Processing epoch 13\n",
      "Processing epoch 14\n",
      "Processing epoch 15\n",
      "Processing epoch 16\n",
      "Processing epoch 17\n",
      "Processing epoch 18\n",
      "Processing epoch 19\n",
      "Processing epoch 20\n",
      "Processing epoch 21\n",
      "Processing epoch 22\n",
      "Processing epoch 23\n",
      "Processing epoch 24\n",
      "Processing epoch 0\n",
      "Processing epoch 1\n",
      "Processing epoch 2\n",
      "Processing epoch 3\n",
      "Processing epoch 4\n",
      "Processing epoch 5\n",
      "Processing epoch 6\n",
      "Processing epoch 7\n",
      "Processing epoch 8\n",
      "Processing epoch 9\n",
      "Processing epoch 10\n",
      "Processing epoch 11\n",
      "Processing epoch 12\n",
      "Processing epoch 13\n",
      "Processing epoch 14\n",
      "Processing epoch 15\n",
      "Processing epoch 16\n",
      "Processing epoch 17\n",
      "Processing epoch 18\n",
      "Processing epoch 19\n",
      "Processing epoch 20\n",
      "Processing epoch 21\n",
      "Processing epoch 22\n",
      "Processing epoch 23\n",
      "Processing epoch 24\n",
      "Processing epoch 0\n",
      "Processing epoch 1\n",
      "Processing epoch 2\n",
      "Processing epoch 3\n",
      "Processing epoch 4\n",
      "Processing epoch 5\n",
      "Processing epoch 6\n",
      "Processing epoch 7\n",
      "Processing epoch 8\n",
      "Processing epoch 9\n",
      "Processing epoch 10\n",
      "Processing epoch 11\n",
      "Processing epoch 12\n",
      "Processing epoch 13\n",
      "Processing epoch 14\n",
      "Processing epoch 15\n",
      "Processing epoch 16\n",
      "Processing epoch 17\n",
      "Processing epoch 18\n",
      "Processing epoch 19\n",
      "Processing epoch 20\n",
      "Processing epoch 21\n",
      "Processing epoch 22\n",
      "Processing epoch 23\n",
      "Processing epoch 24\n",
      "Processing epoch 0\n",
      "Processing epoch 1\n",
      "Processing epoch 2\n",
      "Processing epoch 3\n",
      "Processing epoch 4\n",
      "Processing epoch 5\n",
      "Processing epoch 6\n",
      "Processing epoch 7\n",
      "Processing epoch 8\n",
      "Processing epoch 9\n",
      "Processing epoch 10\n",
      "Processing epoch 11\n",
      "Processing epoch 12\n",
      "Processing epoch 13\n",
      "Processing epoch 14\n",
      "Processing epoch 15\n",
      "Processing epoch 16\n",
      "Processing epoch 17\n",
      "Processing epoch 18\n",
      "Processing epoch 19\n",
      "Processing epoch 20\n",
      "Processing epoch 21\n",
      "Processing epoch 22\n",
      "Processing epoch 23\n",
      "Processing epoch 24\n",
      "Processing epoch 0\n",
      "Processing epoch 1\n",
      "Processing epoch 2\n",
      "Processing epoch 3\n",
      "Processing epoch 4\n",
      "Processing epoch 5\n",
      "Processing epoch 6\n",
      "Processing epoch 7\n",
      "Processing epoch 8\n",
      "Processing epoch 9\n",
      "Processing epoch 10\n",
      "Processing epoch 11\n",
      "Processing epoch 12\n",
      "Processing epoch 13\n",
      "Processing epoch 14\n",
      "Processing epoch 15\n",
      "Processing epoch 16\n",
      "Processing epoch 17\n",
      "Processing epoch 18\n",
      "Processing epoch 19\n",
      "Processing epoch 20\n",
      "Processing epoch 21\n",
      "Processing epoch 22\n",
      "Processing epoch 23\n",
      "Processing epoch 24\n",
      "Evaluating RMSE, MAE of algorithm SVD on 5 split(s).\n",
      "\n",
      "                  Fold 1  Fold 2  Fold 3  Fold 4  Fold 5  Mean    Std     \n",
      "RMSE (testset)    0.8615  0.8645  0.8591  0.8596  0.8632  0.8615  0.0021  \n",
      "MAE (testset)     0.6592  0.6613  0.6598  0.6599  0.6624  0.6605  0.0012  \n",
      "Fit time          7.16    7.36    7.07    6.75    6.62    6.99    0.27    \n",
      "Test time         0.31    0.15    0.16    0.15    0.15    0.18    0.06    \n"
     ]
    },
    {
     "data": {
      "text/plain": [
       "{'fit_time': (7.161555051803589,\n",
       "  7.355576038360596,\n",
       "  7.070690155029297,\n",
       "  6.749825954437256,\n",
       "  6.616758823394775),\n",
       " 'test_mae': array([0.65919313, 0.66134675, 0.65979406, 0.65990829, 0.66243504]),\n",
       " 'test_rmse': array([0.86147376, 0.86445565, 0.85907532, 0.85955843, 0.8631618 ]),\n",
       " 'test_time': (0.3091747760772705,\n",
       "  0.15480875968933105,\n",
       "  0.1635112762451172,\n",
       "  0.14966320991516113,\n",
       "  0.14612126350402832)}"
      ]
     },
     "execution_count": 25,
     "metadata": {
      "tags": []
     },
     "output_type": "execute_result"
    }
   ],
   "source": [
    "cross_validate(svd, data, verbose = True, measures = ['RMSE','MAE'], cv = 5)"
   ]
  },
  {
   "cell_type": "markdown",
   "metadata": {
    "colab_type": "text",
    "id": "AktVTK_2edws"
   },
   "source": [
    "### Task 7: Predictions\n",
    "#### 7.1 Predict ratings for all pairs (user, items) that are NOT in the training set."
   ]
  },
  {
   "cell_type": "code",
   "execution_count": 26,
   "metadata": {
    "colab": {},
    "colab_type": "code",
    "id": "EvHBLqYANplv"
   },
   "outputs": [],
   "source": [
    "predictions = svd.test(antiset)"
   ]
  },
  {
   "cell_type": "code",
   "execution_count": 27,
   "metadata": {
    "colab": {
     "base_uri": "https://localhost:8080/",
     "height": 34
    },
    "colab_type": "code",
    "id": "QhYMr5gAParJ",
    "outputId": "15ae806e-10e1-4eb6-bc98-e0e34860a915"
   },
   "outputs": [
    {
     "data": {
      "text/plain": [
       "Prediction(uid=1, iid=1704, r_ui=3.529119856267723, est=4.809500795456324, details={'was_impossible': False})"
      ]
     },
     "execution_count": 27,
     "metadata": {
      "tags": []
     },
     "output_type": "execute_result"
    }
   ],
   "source": [
    "predictions[1]"
   ]
  },
  {
   "cell_type": "markdown",
   "metadata": {
    "colab_type": "text",
    "id": "zYS5Ghe2esJq"
   },
   "source": [
    "#### 7.2 Recommending top 3 movies movies based on predictions"
   ]
  },
  {
   "cell_type": "code",
   "execution_count": 34,
   "metadata": {
    "colab": {
     "base_uri": "https://localhost:8080/",
     "height": 1000
    },
    "colab_type": "code",
    "id": "AUbzcnDAPczL",
    "outputId": "ad774603-200f-4762-c304-d4529488fee3"
   },
   "outputs": [
    {
     "name": "stdout",
     "output_type": "stream",
     "text": [
      "1 [318, 908, 1225]\n",
      "2 [356, 898, 1041]\n",
      "3 [750, 246, 2019]\n",
      "4 [54503, 1178, 1148]\n",
      "5 [1387, 1199, 1207]\n",
      "6 [1242, 2318, 58559]\n",
      "7 [858, 527, 1204]\n",
      "8 [56782, 930, 104879]\n",
      "9 [1204, 527, 142488]\n",
      "10 [1207, 933, 1172]\n",
      "11 [1196, 527, 1204]\n",
      "12 [1, 50, 110]\n",
      "13 [1233, 1204, 1208]\n",
      "14 [1213, 2324, 904]\n",
      "15 [1204, 2324, 265]\n",
      "16 [1178, 1237, 57669]\n",
      "17 [1237, 3275, 142488]\n",
      "18 [912, 1204, 1104]\n",
      "19 [858, 3030, 110]\n",
      "20 [4973, 1136, 924]\n",
      "21 [2324, 1204, 1172]\n",
      "22 [1197, 1073, 47]\n",
      "23 [1204, 5992, 56782]\n",
      "24 [1204, 2959, 1225]\n",
      "25 [1196, 1210, 1213]\n",
      "26 [2959, 4993, 7153]\n",
      "27 [318, 904, 1204]\n",
      "28 [4848, 904, 1148]\n",
      "29 [2324, 56782, 527]\n",
      "30 [1136, 48516, 912]\n",
      "31 [904, 318, 1204]\n",
      "32 [1272, 741, 1237]\n",
      "33 [750, 858, 7153]\n",
      "34 [1270, 71535, 527]\n",
      "35 [1206, 741, 1204]\n",
      "36 [296, 1196, 2959]\n",
      "37 [1136, 1204, 4973]\n",
      "38 [1204, 44555, 56782]\n",
      "39 [2959, 318, 3275]\n",
      "40 [898, 1213, 2324]\n",
      "41 [318, 527, 858]\n",
      "42 [142488, 4995, 2078]\n",
      "43 [50, 223, 260]\n",
      "44 [527, 608, 1209]\n",
      "45 [527, 914, 5952]\n",
      "46 [2571, 2959, 1204]\n",
      "47 [930, 48516, 1178]\n",
      "48 [318, 1204, 778]\n",
      "49 [2324, 3275, 1204]\n",
      "50 [1196, 1217, 2858]\n",
      "51 [1, 296, 1219]\n",
      "52 [110, 80906, 1237]\n",
      "53 [1, 6, 47]\n",
      "54 [904, 4973, 858]\n",
      "55 [1276, 6377, 318]\n",
      "56 [7361, 1225, 1197]\n",
      "57 [898, 3996, 1089]\n",
      "58 [953, 1199, 4973]\n",
      "59 [923, 1206, 720]\n",
      "60 [1237, 912, 2571]\n",
      "61 [2959, 904, 1204]\n",
      "62 [1199, 1222, 930]\n",
      "63 [56782, 1204, 1250]\n",
      "64 [1230, 541, 1201]\n",
      "65 [1225, 2571, 1204]\n",
      "66 [4973, 3836, 175]\n",
      "67 [741, 750, 1136]\n",
      "68 [2186, 1204, 3451]\n",
      "69 [527, 904, 2019]\n",
      "70 [2959, 296, 2571]\n",
      "71 [1172, 1272, 6350]\n",
      "72 [1204, 56782, 2324]\n",
      "73 [858, 1204, 750]\n",
      "74 [318, 2324, 1204]\n",
      "75 [858, 527, 1136]\n",
      "76 [1227, 1204, 1249]\n",
      "77 [1204, 2324, 858]\n",
      "78 [1178, 741, 2019]\n",
      "79 [318, 38061, 2324]\n",
      "80 [1204, 27773, 106642]\n",
      "81 [1204, 898, 1237]\n",
      "82 [1204, 2324, 1945]\n",
      "83 [6711, 2997, 778]\n",
      "84 [2959, 4226, 47]\n",
      "85 [912, 1262, 142488]\n",
      "86 [1197, 1204, 593]\n",
      "87 [750, 1204, 1193]\n",
      "88 [2959, 296, 750]\n",
      "89 [1237, 1884, 48774]\n",
      "90 [750, 1262, 318]\n",
      "91 [3030, 68157, 2858]\n",
      "92 [750, 1217, 1204]\n",
      "93 [47, 1196, 1197]\n",
      "94 [750, 475, 1148]\n",
      "95 [318, 1204, 1203]\n",
      "96 [2324, 4973, 7361]\n",
      "97 [527, 1197, 1213]\n",
      "98 [4973, 527, 55820]\n",
      "99 [904, 913, 1262]\n",
      "100 [1237, 898, 1199]\n",
      "101 [3275, 527, 56782]\n",
      "102 [1136, 527, 1276]\n",
      "103 [541, 2019, 909]\n",
      "104 [3967, 2324, 1207]\n",
      "105 [1204, 3000, 142488]\n",
      "106 [1089, 1213, 2329]\n",
      "107 [260, 3275, 356]\n",
      "108 [2324, 1198, 1276]\n",
      "109 [1204, 1222, 48516]\n",
      "110 [904, 1204, 1178]\n",
      "111 [110, 2706, 2135]\n",
      "112 [4011, 858, 175]\n",
      "113 [1197, 50, 68954]\n",
      "114 [750, 7361, 1250]\n",
      "115 [48774, 1136, 750]\n",
      "116 [246, 48516, 1246]\n",
      "117 [1208, 1203, 750]\n",
      "118 [1204, 1272, 2959]\n",
      "119 [1237, 2959, 1172]\n",
      "120 [1204, 912, 318]\n",
      "121 [2959, 1201, 930]\n",
      "122 [720, 914, 475]\n",
      "123 [1208, 1242, 904]\n",
      "124 [1199, 2019, 3275]\n",
      "125 [1196, 1213, 1204]\n",
      "126 [1204, 475, 1210]\n",
      "127 [142488, 1204, 904]\n",
      "128 [1237, 1204, 750]\n",
      "129 [1204, 142488, 356]\n",
      "130 [1204, 1945, 1178]\n",
      "131 [54997, 1204, 922]\n",
      "132 [750, 1266, 57669]\n",
      "133 [1204, 4993, 7153]\n",
      "134 [1204, 318, 57669]\n",
      "135 [1276, 914, 5952]\n",
      "136 [1250, 260, 912]\n",
      "137 [1276, 898, 175]\n",
      "138 [1204, 930, 3468]\n",
      "139 [2959, 608, 318]\n",
      "140 [1203, 142488, 2324]\n",
      "141 [1203, 1204, 904]\n",
      "142 [318, 27773, 912]\n",
      "143 [1270, 7153, 953]\n",
      "144 [2324, 1199, 1197]\n",
      "145 [3275, 750, 778]\n",
      "146 [318, 953, 1178]\n",
      "147 [1204, 2959, 741]\n",
      "148 [750, 1178, 1206]\n",
      "149 [318, 2324, 7361]\n",
      "150 [1136, 750, 1266]\n",
      "151 [1214, 38061, 922]\n",
      "152 [1250, 1204, 1237]\n",
      "153 [318, 1263, 293]\n",
      "154 [50, 1198, 2959]\n",
      "155 [1204, 2571, 541]\n",
      "156 [4993, 7153, 4011]\n",
      "157 [142488, 1208, 3508]\n",
      "158 [1283, 1201, 750]\n",
      "159 [1204, 1734, 3435]\n",
      "160 [912, 1089, 1248]\n",
      "161 [1213, 57669, 1276]\n",
      "162 [933, 1204, 1266]\n",
      "163 [356, 7361, 1225]\n",
      "164 [1204, 2324, 5952]\n",
      "165 [58559, 1148, 1213]\n",
      "166 [58559, 1237, 1178]\n",
      "167 [38061, 904, 4226]\n",
      "168 [527, 318, 2959]\n",
      "169 [1208, 48516, 720]\n",
      "170 [4973, 1178, 1197]\n",
      "171 [1206, 2959, 48516]\n",
      "172 [318, 2959, 4993]\n",
      "173 [1204, 318, 475]\n",
      "174 [105504, 3275, 1199]\n",
      "175 [1204, 750, 1136]\n",
      "176 [750, 1213, 930]\n",
      "177 [969, 2324, 741]\n",
      "178 [6874, 1225, 904]\n",
      "179 [48516, 57669, 2571]\n",
      "180 [1204, 1206, 1237]\n",
      "181 [1242, 92259, 475]\n",
      "182 [898, 910, 1201]\n",
      "183 [1237, 68157, 356]\n",
      "184 [1198, 527, 296]\n",
      "185 [2324, 608, 2959]\n",
      "186 [3275, 80906, 56782]\n",
      "187 [898, 2300, 1276]\n",
      "188 [1136, 750, 1272]\n",
      "189 [904, 1266, 1272]\n",
      "190 [27773, 1178, 56782]\n",
      "191 [2700, 1288, 7153]\n",
      "192 [1270, 1204, 1213]\n",
      "193 [1208, 898, 720]\n",
      "194 [1204, 318, 1197]\n",
      "195 [1204, 2324, 47]\n",
      "196 [318, 1204, 4011]\n",
      "197 [778, 720, 48516]\n",
      "198 [34405, 922, 68954]\n",
      "199 [924, 741, 898]\n",
      "200 [2288, 1246, 3435]\n",
      "201 [608, 1208, 1225]\n",
      "202 [904, 1148, 720]\n",
      "203 [1266, 858, 3275]\n",
      "204 [750, 1213, 1252]\n",
      "205 [898, 750, 1204]\n",
      "206 [5690, 1204, 318]\n",
      "207 [1204, 56782, 2324]\n",
      "208 [750, 2324, 2959]\n",
      "209 [50, 2324, 904]\n",
      "210 [2324, 750, 2858]\n",
      "211 [48516, 56782, 2324]\n",
      "212 [2788, 1204, 930]\n",
      "213 [1204, 1217, 3836]\n",
      "214 [1237, 3275, 5291]\n",
      "215 [1136, 32587, 1266]\n",
      "216 [1204, 912, 1272]\n",
      "217 [2324, 1204, 1272]\n",
      "218 [1136, 1204, 898]\n",
      "219 [1148, 56782, 4967]\n",
      "220 [750, 1262, 741]\n",
      "221 [1217, 1248, 1178]\n",
      "222 [1945, 930, 1197]\n",
      "223 [1204, 356, 1276]\n",
      "224 [1222, 2700, 720]\n",
      "225 [1250, 2028, 1199]\n",
      "226 [1201, 1237, 912]\n",
      "227 [50, 4993, 142488]\n",
      "228 [2959, 1199, 933]\n",
      "229 [1178, 1208, 3578]\n",
      "230 [1204, 1845, 62336]\n",
      "231 [2324, 1945, 750]\n",
      "232 [475, 1266, 2324]\n",
      "233 [1196, 912, 1201]\n",
      "234 [2858, 858, 1221]\n",
      "235 [2571, 1204, 142488]\n",
      "236 [1204, 6016, 57669]\n",
      "237 [912, 48516, 1207]\n",
      "238 [1213, 1204, 1237]\n",
      "239 [1237, 904, 1178]\n",
      "240 [1217, 7981, 1214]\n",
      "241 [904, 1136, 1172]\n",
      "242 [1204, 2959, 2858]\n",
      "243 [1204, 1242, 260]\n",
      "244 [1203, 904, 260]\n",
      "245 [1266, 541, 48516]\n",
      "246 [318, 1213, 1204]\n",
      "247 [904, 1237, 2019]\n",
      "248 [2959, 1199, 296]\n",
      "249 [1204, 27773, 1136]\n",
      "250 [527, 1197, 1208]\n",
      "251 [260, 904, 1199]\n",
      "252 [1208, 912, 318]\n",
      "253 [1204, 720, 1237]\n",
      "254 [56782, 741, 930]\n",
      "255 [318, 82459, 1196]\n",
      "256 [356, 1204, 79132]\n",
      "257 [2324, 3578, 318]\n",
      "258 [4993, 7153, 38061]\n",
      "259 [2324, 1222, 541]\n",
      "260 [2502, 858, 4993]\n",
      "261 [2959, 1208, 909]\n",
      "262 [750, 1199, 903]\n",
      "263 [2959, 1203, 1204]\n",
      "264 [720, 318, 741]\n",
      "265 [1204, 858, 7153]\n",
      "266 [858, 5690, 750]\n",
      "267 [356, 4973, 56782]\n",
      "268 [914, 750, 296]\n",
      "269 [1266, 318, 1201]\n",
      "270 [924, 1196, 1270]\n",
      "271 [750, 2028, 356]\n",
      "272 [260, 1203, 750]\n",
      "273 [50, 898, 2324]\n",
      "274 [1237, 57669, 741]\n",
      "275 [56782, 58559, 1291]\n",
      "276 [50, 608, 954]\n",
      "277 [898, 4973, 1284]\n",
      "278 [4993, 608, 1283]\n",
      "279 [2019, 3683, 750]\n",
      "280 [318, 142488, 904]\n",
      "281 [1204, 898, 1225]\n",
      "282 [3275, 4973, 1210]\n",
      "283 [1204, 1178, 5618]\n",
      "284 [7361, 4973, 5952]\n",
      "285 [750, 356, 1208]\n",
      "286 [1223, 3275, 858]\n",
      "287 [296, 1196, 57669]\n",
      "288 [2858, 1203, 4973]\n",
      "289 [2959, 318, 1204]\n",
      "290 [720, 741, 68954]\n",
      "291 [1204, 741, 904]\n",
      "292 [1204, 904, 27773]\n",
      "293 [1204, 1178, 750]\n",
      "294 [3000, 527, 1193]\n",
      "295 [63082, 57669, 44761]\n",
      "296 [1225, 1104, 858]\n",
      "297 [2858, 2571, 4993]\n",
      "298 [1250, 1258, 1394]\n",
      "299 [1204, 741, 898]\n",
      "300 [912, 750, 904]\n",
      "301 [318, 1198, 2571]\n",
      "302 [38061, 750, 541]\n",
      "303 [1204, 4011, 904]\n",
      "304 [475, 142488, 80906]\n",
      "305 [1291, 1204, 6787]\n",
      "306 [7361, 1148, 56782]\n",
      "307 [57669, 293, 64839]\n",
      "308 [3499, 104879, 32]\n",
      "309 [3468, 1237, 2318]\n",
      "310 [1237, 1250, 38061]\n",
      "311 [296, 593, 1266]\n",
      "312 [2959, 1213, 4993]\n",
      "313 [7153, 3435, 44191]\n",
      "314 [1204, 1210, 2571]\n",
      "315 [3275, 2324, 1267]\n",
      "316 [1204, 750, 3435]\n",
      "317 [541, 38061, 1270]\n",
      "318 [1237, 1204, 1259]\n",
      "319 [1204, 1237, 741]\n",
      "320 [1207, 1204, 1270]\n",
      "321 [1204, 318, 1237]\n",
      "322 [1204, 1223, 1242]\n",
      "323 [720, 48516, 57669]\n",
      "324 [1148, 1204, 904]\n",
      "325 [912, 4973, 7153]\n",
      "326 [260, 78499, 1266]\n",
      "327 [1204, 750, 68157]\n",
      "328 [308, 104879, 2020]\n",
      "329 [2959, 74458, 3275]\n",
      "330 [57669, 81845, 1104]\n",
      "331 [1732, 223, 1215]\n",
      "332 [1262, 908, 1197]\n",
      "333 [904, 1204, 318]\n",
      "334 [913, 2324, 914]\n",
      "335 [2959, 1248, 1204]\n",
      "336 [1197, 898, 904]\n",
      "337 [356, 1213, 1272]\n",
      "338 [1266, 3246, 904]\n",
      "339 [1250, 1288, 1204]\n",
      "340 [1213, 898, 750]\n",
      "341 [1204, 1217, 2858]\n",
      "342 [1213, 2571, 922]\n",
      "343 [720, 1178, 3451]\n",
      "344 [2329, 58559, 2324]\n",
      "345 [750, 1204, 2959]\n",
      "346 [1204, 318, 1213]\n",
      "347 [741, 898, 48516]\n",
      "348 [3429, 27773, 142488]\n",
      "349 [1225, 318, 1206]\n",
      "350 [904, 7361, 318]\n",
      "351 [1199, 930, 904]\n",
      "352 [1204, 110, 778]\n",
      "353 [2324, 2160, 4993]\n",
      "354 [1213, 904, 1172]\n",
      "355 [2959, 318, 1242]\n",
      "356 [260, 1266, 34405]\n",
      "357 [5618, 38061, 3836]\n",
      "358 [1172, 475, 246]\n",
      "359 [318, 32, 720]\n",
      "360 [2959, 58559, 2571]\n",
      "361 [1136, 1945, 2318]\n",
      "362 [904, 1242, 2360]\n",
      "363 [48516, 4973, 1237]\n",
      "364 [318, 1276, 1225]\n",
      "365 [72226, 1387, 5992]\n",
      "366 [7361, 356, 318]\n",
      "367 [79132, 58559, 1234]\n",
      "368 [318, 1225, 2019]\n",
      "369 [7153, 4993, 1222]\n",
      "370 [1204, 1148, 475]\n",
      "371 [1208, 898, 1203]\n",
      "372 [2324, 1272, 56782]\n",
      "373 [858, 898, 1221]\n",
      "374 [27773, 1237, 3147]\n",
      "375 [1178, 750, 914]\n",
      "376 [1237, 318, 44555]\n",
      "377 [2028, 750, 2324]\n",
      "378 [541, 356, 720]\n",
      "379 [750, 1237, 5902]\n",
      "380 [1267, 904, 3435]\n",
      "381 [57669, 904, 933]\n",
      "382 [1136, 741, 1732]\n",
      "383 [951, 7361, 933]\n",
      "384 [1213, 1237, 750]\n",
      "385 [4993, 898, 5690]\n",
      "386 [1208, 4226, 1225]\n",
      "387 [527, 1178, 7361]\n",
      "388 [318, 778, 50]\n",
      "389 [50, 954, 1198]\n",
      "390 [142488, 1276, 750]\n",
      "391 [2300, 1262, 1073]\n",
      "392 [720, 6350, 541]\n",
      "393 [1136, 1203, 994]\n",
      "394 [1178, 1237, 4993]\n",
      "395 [930, 1204, 142488]\n",
      "396 [898, 1387, 750]\n",
      "397 [541, 1204, 5618]\n",
      "398 [541, 912, 1199]\n",
      "399 [48516, 318, 3275]\n",
      "400 [1208, 1204, 912]\n",
      "401 [318, 922, 720]\n",
      "402 [78499, 1204, 2571]\n",
      "403 [904, 1204, 750]\n",
      "404 [1204, 27773, 858]\n",
      "405 [356, 1250, 912]\n",
      "406 [356, 904, 2959]\n",
      "407 [110, 56782, 2324]\n",
      "408 [750, 898, 1213]\n",
      "409 [933, 1283, 1178]\n",
      "410 [2924, 55820, 899]\n",
      "411 [260, 1204, 56782]\n",
      "412 [1204, 46578, 750]\n",
      "413 [1199, 930, 4848]\n",
      "414 [1273, 800, 1175]\n",
      "415 [1225, 1204, 912]\n",
      "416 [898, 5618, 3429]\n",
      "417 [50, 930, 750]\n",
      "418 [1732, 1258, 3451]\n",
      "419 [1210, 1204, 1198]\n",
      "420 [1204, 741, 1199]\n",
      "421 [750, 898, 1217]\n",
      "422 [2571, 296, 2324]\n",
      "423 [2324, 541, 953]\n",
      "424 [1276, 720, 5902]\n",
      "425 [1276, 3037, 56782]\n",
      "426 [1235, 1104, 904]\n",
      "427 [318, 2959, 1204]\n",
      "428 [1732, 1303, 1276]\n",
      "429 [1276, 1223, 2160]\n",
      "430 [778, 1136, 56782]\n",
      "431 [2959, 2571, 1198]\n",
      "432 [46578, 142488, 1272]\n",
      "433 [55247, 1204, 1213]\n",
      "434 [904, 1250, 1204]\n",
      "435 [1276, 4993, 904]\n",
      "436 [1204, 1283, 142488]\n",
      "437 [2959, 778, 541]\n",
      "438 [1272, 904, 1291]\n",
      "439 [1225, 2959, 4973]\n",
      "440 [318, 1204, 175]\n",
      "441 [1214, 930, 1199]\n",
      "442 [318, 2324, 356]\n",
      "443 [1276, 2692, 6350]\n",
      "444 [1204, 898, 1237]\n",
      "445 [1252, 1303, 2329]\n",
      "446 [898, 4993, 1204]\n",
      "447 [750, 1221, 1225]\n",
      "448 [527, 1732, 4973]\n",
      "449 [296, 260, 778]\n",
      "450 [2324, 1204, 750]\n",
      "451 [1089, 1204, 318]\n",
      "452 [2329, 2959, 318]\n",
      "453 [1246, 56367, 38061]\n",
      "454 [1204, 750, 48516]\n",
      "455 [1204, 904, 1225]\n",
      "456 [2959, 1266, 858]\n",
      "457 [318, 356, 57669]\n",
      "458 [2028, 750, 933]\n",
      "459 [1203, 1204, 318]\n",
      "460 [2324, 2329, 589]\n",
      "461 [50, 778, 3275]\n",
      "462 [4011, 913, 5971]\n",
      "463 [541, 3275, 142488]\n",
      "464 [608, 1266, 1276]\n",
      "465 [1178, 50, 741]\n",
      "466 [1204, 930, 750]\n",
      "467 [260, 318, 1196]\n",
      "468 [1208, 1213, 1222]\n",
      "469 [2959, 1203, 2019]\n",
      "470 [1204, 898, 750]\n",
      "471 [1172, 318, 1204]\n",
      "472 [1213, 1204, 1237]\n",
      "473 [527, 1204, 56782]\n",
      "474 [1227, 3275, 81845]\n",
      "475 [50, 608, 1136]\n",
      "476 [7361, 1203, 1225]\n",
      "477 [1732, 778, 293]\n",
      "478 [318, 2571, 142488]\n",
      "479 [3949, 912, 3508]\n",
      "480 [924, 69481, 2268]\n",
      "481 [318, 1193, 1266]\n",
      "482 [1272, 1204, 1261]\n",
      "483 [1079, 1235, 4878]\n",
      "484 [953, 1207, 2324]\n",
      "485 [475, 50, 318]\n",
      "486 [930, 608, 1266]\n",
      "487 [1204, 56782, 527]\n",
      "488 [293, 2186, 1291]\n",
      "489 [858, 909, 1203]\n",
      "490 [541, 930, 1204]\n",
      "491 [1237, 527, 1270]\n",
      "492 [930, 68157, 7361]\n",
      "493 [1204, 527, 608]\n",
      "494 [318, 1247, 1193]\n",
      "495 [930, 57669, 1225]\n",
      "496 [2959, 2571, 741]\n",
      "497 [1213, 898, 1204]\n",
      "498 [2324, 904, 4973]\n",
      "499 [2959, 296, 7361]\n",
      "500 [7361, 1204, 48780]\n",
      "501 [1204, 3266, 56782]\n",
      "502 [2324, 296, 1237]\n",
      "503 [1136, 8961, 741]\n",
      "504 [2324, 858, 2019]\n",
      "505 [57669, 318, 4973]\n",
      "506 [1225, 1208, 1204]\n",
      "507 [1136, 904, 898]\n",
      "508 [48516, 741, 58559]\n",
      "509 [858, 1719, 1237]\n",
      "510 [4226, 7371, 260]\n",
      "511 [1204, 858, 3275]\n",
      "512 [858, 2959, 922]\n",
      "513 [1204, 3435, 1178]\n",
      "514 [527, 1203, 1208]\n",
      "515 [2324, 4993, 7153]\n",
      "516 [1204, 318, 858]\n",
      "517 [471, 1208, 337]\n",
      "518 [2959, 47, 1221]\n",
      "519 [1208, 4973, 56782]\n",
      "520 [475, 1204, 1203]\n",
      "521 [1204, 7361, 898]\n",
      "522 [3967, 6377, 106642]\n",
      "523 [1136, 1196, 1197]\n",
      "524 [898, 954, 7361]\n",
      "525 [3275, 898, 1247]\n",
      "526 [1204, 2318, 1237]\n",
      "527 [110, 1222, 3578]\n",
      "528 [720, 1719, 63082]\n",
      "529 [2324, 318, 1198]\n",
      "530 [1291, 750, 1204]\n",
      "531 [1204, 541, 1206]\n",
      "532 [356, 912, 4995]\n",
      "533 [260, 904, 3275]\n",
      "534 [3435, 104879, 1278]\n",
      "535 [2324, 1204, 318]\n",
      "536 [1237, 1207, 908]\n",
      "537 [1204, 750, 1237]\n",
      "538 [1208, 318, 904]\n",
      "539 [48516, 750, 930]\n",
      "540 [912, 1242, 318]\n",
      "541 [56782, 1136, 898]\n",
      "542 [1225, 858, 79132]\n",
      "543 [296, 593, 923]\n",
      "544 [1204, 1250, 1223]\n",
      "545 [904, 2959, 1204]\n",
      "546 [2959, 5902, 58559]\n",
      "547 [1204, 2571, 750]\n",
      "548 [930, 1283, 912]\n",
      "549 [1704, 1225, 1199]\n",
      "550 [1213, 527, 1198]\n",
      "551 [1204, 3435, 1278]\n",
      "552 [318, 58559, 1225]\n",
      "553 [1204, 904, 4226]\n",
      "554 [904, 7371, 318]\n",
      "555 [1080, 2700, 57669]\n",
      "556 [1204, 750, 1242]\n",
      "557 [912, 1204, 898]\n",
      "558 [1213, 50, 318]\n",
      "559 [1204, 741, 1198]\n",
      "560 [56782, 1204, 2324]\n",
      "561 [1247, 904, 1148]\n",
      "562 [2324, 923, 608]\n",
      "563 [2959, 3435, 318]\n",
      "564 [1204, 2858, 1208]\n",
      "565 [2959, 858, 1248]\n",
      "566 [4993, 5952, 1204]\n",
      "567 [1148, 2571, 99114]\n",
      "568 [608, 914, 898]\n",
      "569 [1204, 1213, 898]\n",
      "570 [2324, 50, 904]\n",
      "571 [4973, 1246, 527]\n",
      "572 [3275, 2959, 1199]\n",
      "573 [608, 720, 930]\n",
      "574 [1204, 2324, 720]\n",
      "575 [1178, 6874, 750]\n",
      "576 [541, 2959, 110]\n",
      "577 [904, 750, 1207]\n",
      "578 [50, 527, 2959]\n",
      "579 [1178, 930, 3897]\n",
      "580 [3000, 54997, 122912]\n",
      "581 [858, 933, 904]\n",
      "582 [1204, 318, 356]\n",
      "583 [1204, 1237, 50]\n",
      "584 [1291, 318, 2324]\n",
      "585 [5690, 142488, 1204]\n",
      "586 [2324, 6377, 56367]\n",
      "587 [318, 57669, 48516]\n",
      "588 [904, 1221, 858]\n",
      "589 [1204, 1237, 1719]\n",
      "590 [1230, 1225, 1223]\n",
      "591 [1204, 750, 318]\n",
      "592 [2959, 1198, 904]\n",
      "593 [296, 1203, 1208]\n",
      "594 [590, 954, 1213]\n",
      "595 [318, 1204, 1208]\n",
      "596 [1237, 930, 1248]\n",
      "597 [2324, 750, 924]\n",
      "598 [356, 750, 930]\n",
      "599 [527, 1250, 1193]\n",
      "600 [1203, 541, 6947]\n",
      "601 [1204, 260, 1199]\n",
      "602 [858, 1208, 1198]\n",
      "603 [1136, 750, 741]\n",
      "604 [1204, 904, 1266]\n",
      "605 [1204, 904, 899]\n",
      "606 [1203, 1104, 1262]\n",
      "607 [58559, 3578, 2231]\n",
      "608 [1204, 4848, 3000]\n",
      "609 [1276, 2959, 5952]\n",
      "610 [2019, 1217, 5995]\n"
     ]
    }
   ],
   "source": [
    "from collections import defaultdict\n",
    "def get_top_n(predictions,n):\n",
    "  top_n = defaultdict(list)\n",
    "  for uid, iid, _, est, _ in predictions:\n",
    "    top_n[uid].append((iid,est))\n",
    "  for uid, user_ratings in top_n.items():\n",
    "    user_ratings.sort(key = lambda x: x[1], reverse = True)\n",
    "    top_n[uid] = user_ratings[:n]\n",
    "  return top_n\n",
    "  pass\n",
    "top_n = get_top_n(predictions,n = 3)\n",
    "for uid, user_ratings in top_n.items():\n",
    "  print(uid, [iid for (iid, rating) in user_ratings])"
   ]
  },
  {
   "cell_type": "code",
   "execution_count": null,
   "metadata": {
    "colab": {},
    "colab_type": "code",
    "id": "SHvlIGcHWDK_"
   },
   "outputs": [],
   "source": []
  }
 ],
 "metadata": {
  "colab": {
   "collapsed_sections": [],
   "name": "Recommendation Engine using Collaborative Filtering.ipynb",
   "provenance": []
  },
  "kernelspec": {
   "display_name": "Python 3",
   "language": "python",
   "name": "python3"
  },
  "language_info": {
   "codemirror_mode": {
    "name": "ipython",
    "version": 3
   },
   "file_extension": ".py",
   "mimetype": "text/x-python",
   "name": "python",
   "nbconvert_exporter": "python",
   "pygments_lexer": "ipython3",
   "version": "3.7.4"
  }
 },
 "nbformat": 4,
 "nbformat_minor": 1
}
